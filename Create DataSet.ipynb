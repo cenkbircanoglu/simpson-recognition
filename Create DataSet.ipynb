{
 "cells": [
  {
   "cell_type": "code",
   "execution_count": null,
   "metadata": {
    "ExecuteTime": {
     "end_time": "2017-06-27T21:12:14.927631Z",
     "start_time": "2017-06-27T21:12:11.912537Z"
    }
   },
   "outputs": [],
   "source": [
    "import os \n",
    "import sys\n",
    "import numpy as np\n",
    "from selenium import webdriver\n",
    "import glob\n",
    "import itertools\n",
    "import urllib\n",
    "import time\n",
    "import cv2\n",
    "from random import shuffle\n",
    "import ffmpy\n",
    "import matplotlib.pyplot as plt\n",
    "import keras\n",
    "import imp\n",
    "import label_data\n",
    "import imp\n",
    "import pandas as pd\n",
    "imp.reload(label_data)\n",
    "%matplotlib inline"
   ]
  },
  {
   "cell_type": "markdown",
   "metadata": {
    "heading_collapsed": true
   },
   "source": [
    "#### Convert movies to avi"
   ]
  },
  {
   "cell_type": "code",
   "execution_count": 54,
   "metadata": {
    "ExecuteTime": {
     "end_time": "2017-06-20T23:37:00.154737Z",
     "start_time": "2017-06-20T23:28:20.979158Z"
    },
    "hidden": true
   },
   "outputs": [
    {
     "name": "stdout",
     "output_type": "stream",
     "text": [
      "9/10"
     ]
    }
   ],
   "source": [
    "movies = glob.glob('/Users/alexandreattia/Music/iTunes/iTunes Music/TV Shows/Les Simpson/*.mp4') + \\\n",
    "glob.glob('/Users/alexandreattia/Music/iTunes/iTunes Music/TV Shows/Les Simpson/*.m4v')\n",
    "top_k = 10\n",
    "for p in range(top_k):\n",
    "    print('\\r%i/%i' % (p,top_k), end='')\n",
    "    ff = ffmpy.FFmpeg(\n",
    "        inputs={np.random.choice(movies): None},\n",
    "        outputs={'./video%d.avi'%p: None})\n",
    "    ff.run()"
   ]
  },
  {
   "cell_type": "code",
   "execution_count": 174,
   "metadata": {
    "ExecuteTime": {
     "end_time": "2017-06-16T19:21:14.847482Z",
     "start_time": "2017-06-16T19:20:26.890895Z"
    },
    "collapsed": true,
    "hidden": true
   },
   "outputs": [],
   "source": [
    "movies = glob.glob('/Users/alexandreattia/Music/iTunes/iTunes Music/TV Shows/Les Simpson/*.mp4')\n",
    "top_k = 1\n",
    "movies = [k for k in movies if 'un ennemi tr' in k.lower()]\n",
    "for i, p in enumerate(movies[:top_k]):\n",
    "    ff = ffmpy.FFmpeg(\n",
    "        inputs={p: None},\n",
    "        outputs={'./video_target_%s.avi' % i: None})\n",
    "    ff.run()"
   ]
  },
  {
   "cell_type": "markdown",
   "metadata": {
    "heading_collapsed": true
   },
   "source": [
    "#### Download pictures"
   ]
  },
  {
   "cell_type": "code",
   "execution_count": 77,
   "metadata": {
    "ExecuteTime": {
     "end_time": "2017-05-24T00:28:48.758267Z",
     "start_time": "2017-05-24T00:28:48.752673Z"
    },
    "collapsed": true,
    "hidden": true
   },
   "outputs": [],
   "source": [
    "for character in characters:\n",
    "    char = character.split('/')[2]\n",
    "    browser = webdriver.Chrome()\n",
    "    browser.set_page_load_timeout(10)\n",
    "    time.sleep(np.random.randint(5, 13)*0.1)\n",
    "    for p in range(5):\n",
    "        link = \"https://search.aol.com/aol/image?q=%s+%s&s_it=searchtabs&v_t=na&page=%d\" % ('simpson', char.replace('_','+'), p+1)\n",
    "        try:\n",
    "            browser.get(link)\n",
    "        except:\n",
    "            time.sleep(np.random.randint(7)*0.1)\n",
    "        images = browser.find_elements_by_tag_name('img')\n",
    "        for i, image in enumerate(images):\n",
    "            src = image.get_attribute(\"src\")\n",
    "            if src:\n",
    "                path, _ = urllib.request.urlretrieve(src)\n",
    "                os.rename(path, './characters/%s/aol_%d_%s.png' % (char,p,i))\n",
    "        time.sleep(np.random.randint(10)*0.1)\n",
    "    browser.quit()"
   ]
  },
  {
   "cell_type": "code",
   "execution_count": null,
   "metadata": {
    "ExecuteTime": {
     "end_time": "2017-06-12T17:12:17.396815Z",
     "start_time": "2017-06-12T17:10:41.004Z"
    },
    "collapsed": true,
    "hidden": true
   },
   "outputs": [],
   "source": [
    "char = 'kent brockman'\n",
    "link = \"https://images.search.yahoo.com/search/images;_ylt=AwrTcYSZtSVZ\\\n",
    "boAA7FuJzbkF;_ylu=X3oDMTBsZ29xY3ZzBHNlYwNzZWFyY2gEc2xrA2J1dHRvbg--;_ylc=X1MDOTYwNjI4NTcEX\\\n",
    "3IDMgRhY3RuA2NsawRiY2sDZWltbXRkdGFpcHQ0aCUyNmIlM0Q0JTI2ZCUzREJVYVpCTE5wWUVLSUIxbWNQSzRYNEdYZTF\\\n",
    "5NC0lMjZzJTNEOTglMjZpJTNEbG93NXlrSzFTUXdtTEhLby5Md2EEY3NyY3B2aWQDUno0T0tUSXdOaTdwV3QxdlZTejBrUWU3Tnp\\\n",
    "NdU53QUFBQUNtT00yVgRmcgNzZnAEZnIyA3NhLWdwBGdwcmlkA3lnQ05QTnlSU2dxRTVvRl8zOWt4NkEEbXRlc3RpZANudWxsBG5fc3VnZwMxBG9yaWdpb\\\n",
    "gNpbWFnZXMuc2VhcmNoLnlhaG9vLmNvbQRwb3MDMARwcXN0cgMEcHFzdHJsAwRxc3RybAMyMwRxdWVyeQNhYnJhaGFtIGdyYW5kcGEgc2ltcHNvbgR0X3N0\\\n",
    "bXADMTQ5NTY0MzgwNQR2dGVzdGlkA251bGw-?gprid=ygCNPNyRSgqE5oF_39kx6A&pvid=Rz4OKTIwNi7pWt1vVSz0kQe7NzMuNwAAAACmO\\\n",
    "M2V&p={}&fr=sfp&fr2=sb-top-images.search.yahoo.com&ei=UTF-8&n=60&x=wrt\".format(char.replace('_','+') + 'simpson')\n",
    "\n",
    "#link='http://www.simpsoncrazy.com/pictures/bart'\n",
    "\n",
    "browser = webdriver.Chrome()\n",
    "browser.set_page_load_timeout(10)\n",
    "try:\n",
    "    browser.get(link)\n",
    "except:\n",
    "    time.sleep(np.random.randint(7)*0.1)\n",
    "time.sleep(7)\n",
    "images = browser.find_elements_by_tag_name('img')\n",
    "for i, image in enumerate(images):\n",
    "    src = image.get_attribute(\"src\")\n",
    "    if src:\n",
    "        path, _ = urllib.request.urlretrieve(src)\n",
    "        os.rename(path, './characters/%s/yahoo_%d_%s.jpg' % (char,np.random.randint(20), i))\n",
    "for elem in glob.glob('./characters/%s/*.png'):\n",
    "    k = cv2.imread(elem)\n",
    "    if not k:\n",
    "        os.remove(elem)\n",
    "browser.quit()"
   ]
  },
  {
   "cell_type": "markdown",
   "metadata": {
    "heading_collapsed": true
   },
   "source": [
    "#### Counting"
   ]
  },
  {
   "cell_type": "code",
   "execution_count": 53,
   "metadata": {
    "ExecuteTime": {
     "end_time": "2017-06-20T18:16:18.193295Z",
     "start_time": "2017-06-20T18:16:17.740241Z"
    },
    "hidden": true,
    "scrolled": false
   },
   "outputs": [
    {
     "name": "stderr",
     "output_type": "stream",
     "text": [
      "/Users/alexandreattia/Desktop/Work/workenv/lib/python3.5/site-packages/ipykernel/__main__.py:19: DeprecationWarning: \n",
      ".ix is deprecated. Please use\n",
      ".loc for label based indexing or\n",
      ".iloc for positional indexing\n",
      "\n",
      "See the documentation here:\n",
      "http://pandas.pydata.org/pandas-docs/stable/indexing.html#deprecate_ix\n"
     ]
    },
    {
     "data": {
      "text/html": [
       "<div>\n",
       "<style>\n",
       "    .dataframe thead tr:only-child th {\n",
       "        text-align: right;\n",
       "    }\n",
       "\n",
       "    .dataframe thead th {\n",
       "        text-align: left;\n",
       "    }\n",
       "\n",
       "    .dataframe tbody tr th {\n",
       "        vertical-align: top;\n",
       "    }\n",
       "</style>\n",
       "<table border=\"1\" class=\"dataframe\">\n",
       "  <thead>\n",
       "    <tr style=\"text-align: right;\">\n",
       "      <th></th>\n",
       "      <th>name</th>\n",
       "      <th>non-filtered</th>\n",
       "      <th>edited</th>\n",
       "      <th>labeled</th>\n",
       "      <th>total</th>\n",
       "      <th>train</th>\n",
       "      <th>test</th>\n",
       "      <th>true_total</th>\n",
       "    </tr>\n",
       "  </thead>\n",
       "  <tbody>\n",
       "    <tr>\n",
       "      <th>0</th>\n",
       "      <td>Homer Simpson</td>\n",
       "      <td>1</td>\n",
       "      <td>0</td>\n",
       "      <td>2233</td>\n",
       "      <td>2233</td>\n",
       "      <td>1898</td>\n",
       "      <td>335</td>\n",
       "      <td>1176</td>\n",
       "    </tr>\n",
       "    <tr>\n",
       "      <th>1</th>\n",
       "      <td>Ned Flanders</td>\n",
       "      <td>19</td>\n",
       "      <td>100</td>\n",
       "      <td>1348</td>\n",
       "      <td>1448</td>\n",
       "      <td>1231</td>\n",
       "      <td>217</td>\n",
       "      <td>1176</td>\n",
       "    </tr>\n",
       "    <tr>\n",
       "      <th>2</th>\n",
       "      <td>Moe Szyslak</td>\n",
       "      <td>73</td>\n",
       "      <td>232</td>\n",
       "      <td>1215</td>\n",
       "      <td>1447</td>\n",
       "      <td>1230</td>\n",
       "      <td>217</td>\n",
       "      <td>1176</td>\n",
       "    </tr>\n",
       "    <tr>\n",
       "      <th>3</th>\n",
       "      <td>Lisa Simpson</td>\n",
       "      <td>0</td>\n",
       "      <td>251</td>\n",
       "      <td>1142</td>\n",
       "      <td>1393</td>\n",
       "      <td>1184</td>\n",
       "      <td>209</td>\n",
       "      <td>1176</td>\n",
       "    </tr>\n",
       "    <tr>\n",
       "      <th>4</th>\n",
       "      <td>Bart Simpson</td>\n",
       "      <td>124</td>\n",
       "      <td>0</td>\n",
       "      <td>1327</td>\n",
       "      <td>1327</td>\n",
       "      <td>1128</td>\n",
       "      <td>199</td>\n",
       "      <td>1176</td>\n",
       "    </tr>\n",
       "    <tr>\n",
       "      <th>5</th>\n",
       "      <td>Marge Simpson</td>\n",
       "      <td>122</td>\n",
       "      <td>0</td>\n",
       "      <td>1291</td>\n",
       "      <td>1291</td>\n",
       "      <td>1097</td>\n",
       "      <td>194</td>\n",
       "      <td>1176</td>\n",
       "    </tr>\n",
       "    <tr>\n",
       "      <th>6</th>\n",
       "      <td>Krusty The Clown</td>\n",
       "      <td>0</td>\n",
       "      <td>281</td>\n",
       "      <td>935</td>\n",
       "      <td>1216</td>\n",
       "      <td>1034</td>\n",
       "      <td>182</td>\n",
       "      <td>1176</td>\n",
       "    </tr>\n",
       "    <tr>\n",
       "      <th>7</th>\n",
       "      <td>Principal Skinner</td>\n",
       "      <td>32</td>\n",
       "      <td>83</td>\n",
       "      <td>1121</td>\n",
       "      <td>1204</td>\n",
       "      <td>1023</td>\n",
       "      <td>181</td>\n",
       "      <td>1176</td>\n",
       "    </tr>\n",
       "    <tr>\n",
       "      <th>8</th>\n",
       "      <td>Charles Montgomery Burns</td>\n",
       "      <td>0</td>\n",
       "      <td>298</td>\n",
       "      <td>905</td>\n",
       "      <td>1203</td>\n",
       "      <td>1023</td>\n",
       "      <td>180</td>\n",
       "      <td>1176</td>\n",
       "    </tr>\n",
       "    <tr>\n",
       "      <th>9</th>\n",
       "      <td>Milhouse Van Houten</td>\n",
       "      <td>186</td>\n",
       "      <td>106</td>\n",
       "      <td>945</td>\n",
       "      <td>1051</td>\n",
       "      <td>893</td>\n",
       "      <td>158</td>\n",
       "      <td>1051</td>\n",
       "    </tr>\n",
       "    <tr>\n",
       "      <th>10</th>\n",
       "      <td>Chief Wiggum</td>\n",
       "      <td>17</td>\n",
       "      <td>90</td>\n",
       "      <td>897</td>\n",
       "      <td>987</td>\n",
       "      <td>839</td>\n",
       "      <td>148</td>\n",
       "      <td>987</td>\n",
       "    </tr>\n",
       "    <tr>\n",
       "      <th>11</th>\n",
       "      <td>Abraham Grampa Simpson</td>\n",
       "      <td>0</td>\n",
       "      <td>0</td>\n",
       "      <td>934</td>\n",
       "      <td>934</td>\n",
       "      <td>794</td>\n",
       "      <td>140</td>\n",
       "      <td>934</td>\n",
       "    </tr>\n",
       "    <tr>\n",
       "      <th>12</th>\n",
       "      <td>Sideshow Bob</td>\n",
       "      <td>26</td>\n",
       "      <td>220</td>\n",
       "      <td>685</td>\n",
       "      <td>905</td>\n",
       "      <td>769</td>\n",
       "      <td>136</td>\n",
       "      <td>905</td>\n",
       "    </tr>\n",
       "    <tr>\n",
       "      <th>13</th>\n",
       "      <td>Apu Nahasapeemapetilon</td>\n",
       "      <td>40</td>\n",
       "      <td>64</td>\n",
       "      <td>560</td>\n",
       "      <td>624</td>\n",
       "      <td>530</td>\n",
       "      <td>94</td>\n",
       "      <td>624</td>\n",
       "    </tr>\n",
       "    <tr>\n",
       "      <th>14</th>\n",
       "      <td>Kent Brockman</td>\n",
       "      <td>0</td>\n",
       "      <td>113</td>\n",
       "      <td>383</td>\n",
       "      <td>496</td>\n",
       "      <td>422</td>\n",
       "      <td>74</td>\n",
       "      <td>496</td>\n",
       "    </tr>\n",
       "    <tr>\n",
       "      <th>15</th>\n",
       "      <td>Edna Krabappel</td>\n",
       "      <td>29</td>\n",
       "      <td>92</td>\n",
       "      <td>372</td>\n",
       "      <td>464</td>\n",
       "      <td>394</td>\n",
       "      <td>70</td>\n",
       "      <td>464</td>\n",
       "    </tr>\n",
       "    <tr>\n",
       "      <th>16</th>\n",
       "      <td>Comic Book Guy</td>\n",
       "      <td>363</td>\n",
       "      <td>80</td>\n",
       "      <td>382</td>\n",
       "      <td>462</td>\n",
       "      <td>393</td>\n",
       "      <td>69</td>\n",
       "      <td>462</td>\n",
       "    </tr>\n",
       "    <tr>\n",
       "      <th>17</th>\n",
       "      <td>Nelson Muntz</td>\n",
       "      <td>0</td>\n",
       "      <td>29</td>\n",
       "      <td>331</td>\n",
       "      <td>360</td>\n",
       "      <td>306</td>\n",
       "      <td>54</td>\n",
       "      <td>360</td>\n",
       "    </tr>\n",
       "    <tr>\n",
       "      <th>18</th>\n",
       "      <td>Lenny Leonard</td>\n",
       "      <td>25</td>\n",
       "      <td>53</td>\n",
       "      <td>253</td>\n",
       "      <td>306</td>\n",
       "      <td>260</td>\n",
       "      <td>46</td>\n",
       "      <td>306</td>\n",
       "    </tr>\n",
       "    <tr>\n",
       "      <th>19</th>\n",
       "      <td>Mayor Quimby</td>\n",
       "      <td>41</td>\n",
       "      <td>50</td>\n",
       "      <td>196</td>\n",
       "      <td>246</td>\n",
       "      <td>209</td>\n",
       "      <td>37</td>\n",
       "      <td>246</td>\n",
       "    </tr>\n",
       "    <tr>\n",
       "      <th>20</th>\n",
       "      <td>TOTAL</td>\n",
       "      <td>1098</td>\n",
       "      <td>2142</td>\n",
       "      <td>17455</td>\n",
       "      <td>19597</td>\n",
       "      <td>16657</td>\n",
       "      <td>2940</td>\n",
       "      <td>17419</td>\n",
       "    </tr>\n",
       "  </tbody>\n",
       "</table>\n",
       "</div>"
      ],
      "text/plain": [
       "                        name  non-filtered  edited  labeled  total  train  \\\n",
       "0              Homer Simpson             1       0     2233   2233   1898   \n",
       "1               Ned Flanders            19     100     1348   1448   1231   \n",
       "2                Moe Szyslak            73     232     1215   1447   1230   \n",
       "3               Lisa Simpson             0     251     1142   1393   1184   \n",
       "4               Bart Simpson           124       0     1327   1327   1128   \n",
       "5              Marge Simpson           122       0     1291   1291   1097   \n",
       "6           Krusty The Clown             0     281      935   1216   1034   \n",
       "7          Principal Skinner            32      83     1121   1204   1023   \n",
       "8   Charles Montgomery Burns             0     298      905   1203   1023   \n",
       "9        Milhouse Van Houten           186     106      945   1051    893   \n",
       "10              Chief Wiggum            17      90      897    987    839   \n",
       "11    Abraham Grampa Simpson             0       0      934    934    794   \n",
       "12              Sideshow Bob            26     220      685    905    769   \n",
       "13    Apu Nahasapeemapetilon            40      64      560    624    530   \n",
       "14             Kent Brockman             0     113      383    496    422   \n",
       "15            Edna Krabappel            29      92      372    464    394   \n",
       "16            Comic Book Guy           363      80      382    462    393   \n",
       "17              Nelson Muntz             0      29      331    360    306   \n",
       "18             Lenny Leonard            25      53      253    306    260   \n",
       "19              Mayor Quimby            41      50      196    246    209   \n",
       "20                     TOTAL          1098    2142    17455  19597  16657   \n",
       "\n",
       "    test  true_total  \n",
       "0    335        1176  \n",
       "1    217        1176  \n",
       "2    217        1176  \n",
       "3    209        1176  \n",
       "4    199        1176  \n",
       "5    194        1176  \n",
       "6    182        1176  \n",
       "7    181        1176  \n",
       "8    180        1176  \n",
       "9    158        1051  \n",
       "10   148         987  \n",
       "11   140         934  \n",
       "12   136         905  \n",
       "13    94         624  \n",
       "14    74         496  \n",
       "15    70         464  \n",
       "16    69         462  \n",
       "17    54         360  \n",
       "18    46         306  \n",
       "19    37         246  \n",
       "20  2940       17419  "
      ]
     },
     "execution_count": 53,
     "metadata": {},
     "output_type": "execute_result"
    }
   ],
   "source": [
    "characters = glob.glob('./characters/*')\n",
    "d = []\n",
    "dd = []\n",
    "for character in characters:\n",
    "    a = len([k for k in glob.glob(character + '/*') if 'edited' in k])\n",
    "    b = len([k for k in glob.glob(character + '/*') if 'pic_video' in k])\n",
    "    c = len([k for k in glob.glob(character + '/*') if 'pic_video' not in k and 'edited' not in k])\n",
    "    dd.append({'name' : character.split('/')[2].replace('_',' ').title(),\n",
    "               'edited' :a,\n",
    "               'labeled':b,\n",
    "               'total':a+b,\n",
    "               'non-filtered':c,\n",
    "               'train': round((a+b)*0.85),\n",
    "               'test': round((a+b)*0.15)})\n",
    "df = pd.DataFrame(dd)[['name', 'non-filtered',\n",
    "                       'edited', 'labeled','total',\n",
    "                      'train', 'test']].sort_values('total', ascending=False).reset_index(drop=True)\n",
    "df['true_total'] = df.total\n",
    "df.ix[df.total > (1000 / 0.85), 'true_total'] = int((1000 / 0.85))\n",
    "top_k = 20\n",
    "df2 =  pd.concat([df,pd.DataFrame({'name' : \"TOTAL\",\n",
    "           'edited' :df[:top_k].edited.sum(),\n",
    "           'labeled':df[:top_k].labeled.sum(),\n",
    "           'total':df[:top_k].total.sum(),\n",
    "           'non-filtered':df[:top_k]['non-filtered'].sum(),\n",
    "           'train': df[:top_k].train.sum(),\n",
    "           'test': df[:top_k].test.sum(),\n",
    "           'true_total': df[:top_k].true_total.sum()}, index=[top_k])])\n",
    "df2 = df2.sort_values('total', ascending=False).sort_index().reset_index(drop=True)\n",
    "df2[['name', 'non-filtered',\n",
    "    'edited', 'labeled','total',\n",
    "    'train', 'test', \"true_total\"]][:1+df2[df2.name == 'TOTAL'].index[0]]"
   ]
  },
  {
   "cell_type": "markdown",
   "metadata": {
    "heading_collapsed": true
   },
   "source": [
    "#### Filtering pictures "
   ]
  },
  {
   "cell_type": "code",
   "execution_count": 8,
   "metadata": {
    "ExecuteTime": {
     "end_time": "2017-06-27T21:41:18.041945Z",
     "start_time": "2017-06-27T21:41:18.026754Z"
    },
    "hidden": true
   },
   "outputs": [],
   "source": [
    "characters = glob.glob('./characters/*')\n",
    "d = []\n",
    "for character in characters:\n",
    "    a = len([k for k in glob.glob(character + '/*') if 'edited' in k])\n",
    "    b = len([k for k in glob.glob(character + '/*') if 'pic_video' in k])\n",
    "    d.append((character,a+b))\n",
    "characters = [e[0] for e in sorted(d, key=lambda x:x[1], reverse=True)]\n",
    "\n",
    "top_k = 10\n",
    "characters = [e for e in characters if 'nelson' in e]\n",
    "for character in characters:\n",
    "    print(character.split('/')[2].replace('_',' ').upper())\n",
    "    pictures =  [k for k in glob.glob(character + '/*') if 'edited' not in k and 'pic_vid' not in k]\n",
    "    for pic in pictures:\n",
    "        img = cv2.imread(pic)\n",
    "        if img is not None:\n",
    "            plt.imshow(img)\n",
    "            plt.show()\n",
    "            f = input('Keep the pictures, crop it or delete it ? [Y,C,N]')\n",
    "            if f.lower() == 'skip':\n",
    "                break\n",
    "            if f.lower() in ['y', 'yes', '', 'keep', 'k']:\n",
    "                title = pic.replace('.jpg', '%d_edited.jpg' % np.random.randint(500, 5000)).replace(\n",
    "                            '.png', '%d_edited.jpg' % np.random.randint(500, 5000))\n",
    "                cv2.imwrite(title, img)\n",
    "                os.remove(pic)\n",
    "            elif f.lower() in ['crop', 'c']:\n",
    "                g = input('Right or Left half ? [R,L]')\n",
    "                if g.lower() in ['right', 'r']:\n",
    "                    img2 = img[:, int(img.shape[1]/2):]\n",
    "                    plt.imshow(img2)\n",
    "                    plt.show()\n",
    "                    h = input('Good')\n",
    "                    if h.lower() not in ['n', 'no']:\n",
    "                        title = pic.replace('.jpg', '%d_edited.jpg' % np.random.randint(500, 5000)).replace(\n",
    "                            '.png', '%d_edited.jpg' % np.random.randint(500, 5000))\n",
    "                        cv2.imwrite(title, img2)\n",
    "                        os.remove(pic)\n",
    "                    else:\n",
    "                        os.remove(pic)\n",
    "                elif g.lower() in ['left', 'l']:\n",
    "                    img2 = img[:, :int(img.shape[1]/2)]\n",
    "                    plt.imshow(img2)\n",
    "                    plt.show()\n",
    "                    h = input('Good')\n",
    "                    if h.lower() not in ['n', 'no']:\n",
    "                        title = pic.replace('.jpg', '%d_edited.jpg' % np.random.randint(500, 5000)).replace(\n",
    "                            '.png', '%d_edited.jpg' % np.random.randint(500, 5000))\n",
    "                        cv2.imwrite(title, img2)\n",
    "                        os.remove(pic)\n",
    "                    else:\n",
    "                        os.remove(pic)\n",
    "            elif f.lower() in ['no','delete','d','n']:\n",
    "                os.remove(pic)\n",
    "        else:\n",
    "            os.remove(pic)\n",
    "        print('%d pictures edited' % len([k for k in glob.glob(character + '/*') if 'edited' in k]))"
   ]
  },
  {
   "cell_type": "markdown",
   "metadata": {
    "heading_collapsed": true
   },
   "source": [
    "#### Data from videos"
   ]
  },
  {
   "cell_type": "code",
   "execution_count": 9,
   "metadata": {
    "ExecuteTime": {
     "end_time": "2017-06-27T21:41:32.597131Z",
     "start_time": "2017-06-27T21:41:32.594514Z"
    },
    "hidden": true
   },
   "outputs": [],
   "source": [
    "imp.reload(label_data)\n",
    "label_data.labelized_data(to_shuffle=True)"
   ]
  },
  {
   "cell_type": "markdown",
   "metadata": {
    "heading_collapsed": true
   },
   "source": [
    "#### Auto-creating set"
   ]
  },
  {
   "cell_type": "code",
   "execution_count": 43,
   "metadata": {
    "ExecuteTime": {
     "end_time": "2017-06-20T02:14:43.664640Z",
     "start_time": "2017-06-20T02:14:43.591143Z"
    },
    "collapsed": true,
    "hidden": true
   },
   "outputs": [],
   "source": [
    "for k in map_characters.values():\n",
    "    if k not in [k.split('/')[2] for k in glob.glob('./autogenerate/*')]:\n",
    "        os.mkdir('./autogenerate/%s/'% k)"
   ]
  },
  {
   "cell_type": "code",
   "execution_count": 48,
   "metadata": {
    "ExecuteTime": {
     "end_time": "2017-06-20T02:16:52.165214Z",
     "start_time": "2017-06-20T02:16:29.254972Z"
    },
    "hidden": true,
    "scrolled": false
   },
   "outputs": [
    {
     "name": "stdout",
     "output_type": "stream",
     "text": [
      "1644/1644"
     ]
    }
   ],
   "source": [
    "imp.reload(label_data)\n",
    "import train\n",
    "imp.reload(train)\n",
    "# map_characters = label_data.map_characters\n",
    "# label_data.generate_pic_from_videos()\n",
    "label_data.classify_pics()"
   ]
  },
  {
   "cell_type": "code",
   "execution_count": 7,
   "metadata": {
    "ExecuteTime": {
     "end_time": "2017-06-27T21:41:05.359658Z",
     "start_time": "2017-06-27T21:41:05.355310Z"
    },
    "hidden": true
   },
   "outputs": [],
   "source": [
    "for char in glob.glob('./autogenerate/*'):\n",
    "    character = char.split('/')[2]\n",
    "    pics = glob.glob(char+'/*')\n",
    "    shuffle(pics)\n",
    "    for pic in pics:\n",
    "        img = cv2.imread(pic)\n",
    "        plt.imshow(img)\n",
    "        plt.show()\n",
    "        corr = input('%s : Correct ? [Y/n] ' % character)\n",
    "        if corr.lower() in ['y', 'yes']:\n",
    "            os.rename(pic, './characters/%s/%s' % (character, pic.split('/')[3]))\n",
    "        elif corr.lower() == 'skip':\n",
    "            break\n",
    "        else:\n",
    "            os.remove(pic)"
   ]
  },
  {
   "cell_type": "markdown",
   "metadata": {
    "collapsed": true,
    "heading_collapsed": true
   },
   "source": [
    "#### Clean Dataset"
   ]
  },
  {
   "cell_type": "code",
   "execution_count": 16,
   "metadata": {
    "ExecuteTime": {
     "end_time": "2017-06-21T23:49:14.949054Z",
     "start_time": "2017-06-21T23:49:14.939999Z"
    },
    "collapsed": true,
    "hidden": true
   },
   "outputs": [],
   "source": [
    "def mse(imageA, imageB):\n",
    "    if imageA.shape[0] == imageB.shape[0] and imageA.shape[1] == imageB.shape[1]:\n",
    "        err = np.sum((imageA.astype(\"float\") - imageB.astype(\"float\")) ** 2)\n",
    "        err /= float(imageA.shape[0] * imageA.shape[1])\n",
    "        return err\n",
    "    else:\n",
    "        return imageA.shape[0]*imageA.shape[1]"
   ]
  },
  {
   "cell_type": "code",
   "execution_count": 31,
   "metadata": {
    "ExecuteTime": {
     "end_time": "2017-06-22T00:04:56.114157Z",
     "start_time": "2017-06-22T00:04:52.914777Z"
    },
    "collapsed": true,
    "hidden": true
   },
   "outputs": [],
   "source": [
    "pics = glob.glob('./characters/abraham_grampa_simpson/*.*')\n",
    "pics = {pic.split('/')[3].replace('.jpg', '') : cv2.imread(pic) for pic in pics}"
   ]
  },
  {
   "cell_type": "code",
   "execution_count": 18,
   "metadata": {
    "ExecuteTime": {
     "end_time": "2017-06-21T23:49:27.785674Z",
     "start_time": "2017-06-21T23:49:27.526969Z"
    },
    "hidden": true
   },
   "outputs": [
    {
     "name": "stdout",
     "output_type": "stream",
     "text": [
      "(416, 576, 3) (368, 496, 3)\n"
     ]
    },
    {
     "data": {
      "text/plain": [
       "<matplotlib.image.AxesImage at 0x12282b5f8>"
      ]
     },
     "execution_count": 18,
     "metadata": {},
     "output_type": "execute_result"
    },
    {
     "data": {
      "image/png": "[encoded data removed]",
      "text/plain": [
       "<matplotlib.figure.Figure at 0x120350b00>"
      ]
     },
     "metadata": {},
     "output_type": "display_data"
    }
   ],
   "source": [
    "img1 = cv2.imread(pics[0])\n",
    "img2 = cv2.imread(pics[1])\n",
    "print(img1.shape, img2.shape)\n",
    "f,ax = plt.subplots(ncols=2)\n",
    "ax[0].imshow(img1)\n",
    "ax[1].imshow(img2)"
   ]
  },
  {
   "cell_type": "code",
   "execution_count": 6,
   "metadata": {
    "ExecuteTime": {
     "end_time": "2017-06-27T21:40:48.261697Z",
     "start_time": "2017-06-27T21:40:48.256252Z"
    },
    "hidden": true,
    "scrolled": true
   },
   "outputs": [],
   "source": [
    "from label_data import map_characters\n",
    "for char in map_characters.values():\n",
    "    to_remove = []\n",
    "    print(char)\n",
    "    print(len(glob.glob('./characters/%s/*.*' % char)))\n",
    "    pics = glob.glob('./characters/%s/*.*'% char)\n",
    "    pics = {pic.split('/')[3]: cv2.imread(pic) for pic in pics}\n",
    "    for a, b in itertools.combinations(pics.items(), 2):\n",
    "        err = mse(a[1], b[1])\n",
    "        if err == 0:\n",
    "            to_remove.append('./characters/%s/' % char + b[0])\n",
    "    for e in set(to_remove):\n",
    "        try:\n",
    "            os.remove(e)\n",
    "        except:\n",
    "            pass\n",
    "    print(len(glob.glob('./characters/%s/*.*'% char)))"
   ]
  },
  {
   "cell_type": "markdown",
   "metadata": {},
   "source": [
    "#### Create bounding box"
   ]
  },
  {
   "cell_type": "code",
   "execution_count": 2,
   "metadata": {
    "ExecuteTime": {
     "end_time": "2017-06-27T21:12:47.375086Z",
     "start_time": "2017-06-27T21:12:47.358529Z"
    },
    "collapsed": true
   },
   "outputs": [],
   "source": [
    "with open('./annotation.txt') as f:\n",
    "    already_labeled = [k.strip().split(',') for k in f.readlines()]\n",
    "pics, x1, y1, x2, y2, char = zip(*already_labeled)"
   ]
  },
  {
   "cell_type": "code",
   "execution_count": 5,
   "metadata": {
    "ExecuteTime": {
     "end_time": "2017-06-27T21:40:37.359030Z",
     "start_time": "2017-06-27T21:40:37.355586Z"
    }
   },
   "outputs": [],
   "source": [
    "ind = np.random.choice(range(len(pics)), 3)\n",
    "f, ax = plt.subplots(ncols=3, figsize=(10,5))\n",
    "for k, i in enumerate(ind):\n",
    "    img = cv2.imread(pics[i])\n",
    "    img = cv2.cvtColor(img, cv2.COLOR_BGR2RGB)\n",
    "    cv2.rectangle(img, (int(x1[i]),int(y1[i])),(int(x2[i]),int(y2[i])),(0,255,0),3)\n",
    "    font = cv2.FONT_HERSHEY_SIMPLEX\n",
    "    cv2.putText(img, char[i].split('_')[0], (int(x1[i]),int(y1[i]) - 5), font, 0.7, (0,255,0), 1, cv2.LINE_AA)\n",
    "    ax[k].imshow(img)"
   ]
  },
  {
   "cell_type": "code",
   "execution_count": 4,
   "metadata": {
    "ExecuteTime": {
     "end_time": "2017-06-27T21:13:20.666994Z",
     "start_time": "2017-06-27T21:13:15.289826Z"
    }
   },
   "outputs": [
    {
     "name": "stderr",
     "output_type": "stream",
     "text": [
      "100%|██████████| 5324/5324 [00:05<00:00, 994.88it/s] \n"
     ]
    }
   ],
   "source": [
    "from shutil import copyfile\n",
    "from tqdm import tqdm\n",
    "for p in tqdm(pics):\n",
    "    char = p.split('/')[8]\n",
    "    pic_name = p.split('/')[::-1][0]\n",
    "    copyfile('./characters/%s/%s' % (char, pic_name), './char_transfers/%s/%s' % (char, pic_name))"
   ]
  },
  {
   "cell_type": "code",
   "execution_count": null,
   "metadata": {
    "collapsed": true
   },
   "outputs": [],
   "source": []
  }
 ],
 "metadata": {
  "kernelspec": {
   "display_name": "Python 3",
   "language": "python",
   "name": "python3"
  },
  "language_info": {
   "codemirror_mode": {
    "name": "ipython",
    "version": 3
   },
   "file_extension": ".py",
   "mimetype": "text/x-python",
   "name": "python",
   "nbconvert_exporter": "python",
   "pygments_lexer": "ipython3",
   "version": "3.6.7"
  },
  "nav_menu": {},
  "toc": {
   "navigate_menu": true,
   "number_sections": true,
   "sideBar": true,
   "threshold": 6.0,
   "toc_cell": false,
   "toc_section_display": "block",
   "toc_window_display": false
  }
 },
 "nbformat": 4,
 "nbformat_minor": 2
}
