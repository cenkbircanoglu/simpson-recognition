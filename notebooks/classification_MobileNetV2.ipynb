{
 "cells": [
  {
   "cell_type": "code",
   "execution_count": 1,
   "metadata": {},
   "outputs": [
    {
     "data": {
      "text/plain": [
       "'1.13.1'"
      ]
     },
     "execution_count": 1,
     "metadata": {},
     "output_type": "execute_result"
    }
   ],
   "source": [
    "import tensorflow as tf\n",
    "import pandas as pd\n",
    "import matplotlib.pyplot as plt\n",
    "from sklearn.model_selection import train_test_split\n",
    "from IPython.display import Image, display\n",
    "from tensorflow.keras.callbacks import CSVLogger\n",
    "from tensorflow.keras.callbacks import EarlyStopping\n",
    "from tensorflow.keras.callbacks import ModelCheckpoint\n",
    "tf.__version__"
   ]
  },
  {
   "cell_type": "code",
   "execution_count": 2,
   "metadata": {},
   "outputs": [],
   "source": [
    "import warnings\n",
    "warnings.filterwarnings('ignore')"
   ]
  },
  {
   "cell_type": "code",
   "execution_count": 3,
   "metadata": {},
   "outputs": [],
   "source": [
    "config = tf.ConfigProto()\n",
    "config.gpu_options.allow_growth=True\n",
    "sess = tf.Session(config=config)"
   ]
  },
  {
   "cell_type": "code",
   "execution_count": 4,
   "metadata": {},
   "outputs": [
    {
     "name": "stdout",
     "output_type": "stream",
     "text": [
      "mkdir: cannot create directory ‘models’: File exists\r\n"
     ]
    }
   ],
   "source": [
    "!mkdir models"
   ]
  },
  {
   "cell_type": "code",
   "execution_count": 5,
   "metadata": {},
   "outputs": [],
   "source": [
    "IMAGE_SIZE = 224\n",
    "BATCH_SIZE = 32\n",
    "num_epochs = 50\n",
    "val_steps = 20\n",
    "MODEL_NAME = 'mobilenetv2'"
   ]
  },
  {
   "cell_type": "code",
   "execution_count": 6,
   "metadata": {},
   "outputs": [],
   "source": [
    "def draw_losses(history):\n",
    "    acc = history.history['acc']\n",
    "    val_acc = history.history['val_acc']\n",
    "\n",
    "    loss = history.history['loss']\n",
    "    val_loss = history.history['val_loss']\n",
    "\n",
    "    plt.figure(figsize=(8, 8))\n",
    "    plt.subplot(2, 1, 1)\n",
    "    plt.plot(acc, label='Training Accuracy')\n",
    "    plt.plot(val_acc, label='Validation Accuracy')\n",
    "    plt.legend(loc='lower right')\n",
    "    plt.ylabel('Accuracy')\n",
    "    plt.title('Training and Validation Accuracy')\n",
    "\n",
    "    plt.subplot(2, 1, 2)\n",
    "    plt.plot(loss, label='Training Loss')\n",
    "    plt.plot(val_loss, label='Validation Loss')\n",
    "    plt.legend(loc='upper right')\n",
    "    plt.ylabel('Cross Entropy')\n",
    "    plt.title('Training and Validation Loss')\n",
    "    plt.xlabel('epoch')\n",
    "    plt.show()"
   ]
  },
  {
   "cell_type": "code",
   "execution_count": 7,
   "metadata": {},
   "outputs": [],
   "source": [
    "image_csv = pd.read_csv('./../data/all.csv')\n",
    "\n",
    "# Prepend image filenames in train/ with relative path\n",
    "filenames = image_csv['path'].tolist()\n",
    "labels = image_csv['label'].tolist()\n",
    "\n",
    "train_filenames, val_filenames, train_labels, val_labels = train_test_split(filenames,\n",
    "                                                                            labels,\n",
    "                                                                            train_size=0.8,\n",
    "                                                                            random_state=420)\n",
    "\n",
    "num_train = len(train_filenames)\n",
    "num_val = len(val_filenames)\n",
    "output_size = len(set(train_labels + val_labels))"
   ]
  },
  {
   "cell_type": "code",
   "execution_count": 8,
   "metadata": {},
   "outputs": [],
   "source": [
    "def _parse_fn(filename, label):\n",
    "    image_string = tf.io.read_file(filename)\n",
    "    image_decoded = tf.image.decode_jpeg(image_string)\n",
    "    image_normalized = (tf.cast(image_decoded, tf.float32)/127.5) - 1\n",
    "    image_resized = tf.image.resize(image_normalized, (IMAGE_SIZE, IMAGE_SIZE))\n",
    "    return image_resized, label"
   ]
  },
  {
   "cell_type": "code",
   "execution_count": null,
   "metadata": {},
   "outputs": [],
   "source": [
    "train_data = tf.data.Dataset.from_tensor_slices((tf.constant(train_filenames), tf.constant(train_labels))).map(_parse_fn).shuffle(buffer_size=10000).batch(BATCH_SIZE)\n",
    "\n",
    "\n",
    "val_data = tf.data.Dataset.from_tensor_slices((tf.constant(val_filenames), tf.constant(val_labels))).map(_parse_fn).batch(BATCH_SIZE)\n"
   ]
  },
  {
   "cell_type": "code",
   "execution_count": null,
   "metadata": {},
   "outputs": [
    {
     "name": "stdout",
     "output_type": "stream",
     "text": [
      "WARNING:tensorflow:From /home/cenk/.virtualenvs/simpson/lib/python3.6/site-packages/tensorflow/python/ops/resource_variable_ops.py:435: colocate_with (from tensorflow.python.framework.ops) is deprecated and will be removed in a future version.\n",
      "Instructions for updating:\n",
      "Colocations handled automatically by placer.\n"
     ]
    }
   ],
   "source": [
    "# Base model with Xception\n",
    "IMG_SHAPE = (IMAGE_SIZE, IMAGE_SIZE, 3)\n",
    "\n",
    "base_model = tf.keras.applications.mobilenet_v2.MobileNetV2(input_shape=IMG_SHAPE, \n",
    "                                       include_top=False, \n",
    "                                       weights='imagenet')"
   ]
  },
  {
   "cell_type": "code",
   "execution_count": null,
   "metadata": {},
   "outputs": [],
   "source": [
    "# Freeze the pre-trained model weights\n",
    "base_model.trainable = False\n",
    "\n",
    "# Trainable classification head\n",
    "maxpool_layer = tf.keras.layers.GlobalMaxPooling2D()\n",
    "prediction_layer = tf.keras.layers.Dense(output_size, activation='sigmoid')\n",
    "\n",
    "# Layer classification head with feature detector\n",
    "model = tf.keras.Sequential([\n",
    "    base_model,\n",
    "    maxpool_layer,\n",
    "    prediction_layer\n",
    "])\n",
    "\n",
    "learning_rate = 0.0001"
   ]
  },
  {
   "cell_type": "code",
   "execution_count": null,
   "metadata": {},
   "outputs": [],
   "source": [
    "csv_logger = CSVLogger('logs/%s.log' % MODEL_NAME)"
   ]
  },
  {
   "cell_type": "code",
   "execution_count": null,
   "metadata": {},
   "outputs": [
    {
     "name": "stdout",
     "output_type": "stream",
     "text": [
      "_________________________________________________________________\n",
      "Layer (type)                 Output Shape              Param #   \n",
      "=================================================================\n",
      "mobilenetv2_1.00_224 (Model) (None, 7, 7, 1280)        2257984   \n",
      "_________________________________________________________________\n",
      "global_max_pooling2d (Global (None, 1280)              0         \n",
      "_________________________________________________________________\n",
      "dense (Dense)                (None, 42)                53802     \n",
      "=================================================================\n",
      "Total params: 2,311,786\n",
      "Trainable params: 53,802\n",
      "Non-trainable params: 2,257,984\n",
      "_________________________________________________________________\n"
     ]
    }
   ],
   "source": [
    "model.compile(optimizer=tf.keras.optimizers.Adam(),\n",
    "             loss='categorical_crossentropy',\n",
    "             metrics=['acc'])\n",
    "\n",
    "model.summary()"
   ]
  },
  {
   "cell_type": "code",
   "execution_count": null,
   "metadata": {},
   "outputs": [],
   "source": [
    "steps_per_epoch = round(num_train)//BATCH_SIZE"
   ]
  },
  {
   "cell_type": "code",
   "execution_count": null,
   "metadata": {},
   "outputs": [
    {
     "name": "stdout",
     "output_type": "stream",
     "text": [
      "WARNING:tensorflow:From /home/cenk/.virtualenvs/simpson/lib/python3.6/site-packages/tensorflow/python/ops/math_ops.py:3066: to_int32 (from tensorflow.python.ops.math_ops) is deprecated and will be removed in a future version.\n",
      "Instructions for updating:\n",
      "Use tf.cast instead.\n",
      "Epoch 1/50\n",
      "523/523 [==============================] - 55s 106ms/step - loss: 2856.3693 - acc: 0.9836 - val_loss: 2804.0933 - val_acc: 0.9734\n",
      "Epoch 2/50\n",
      "523/523 [==============================] - 54s 103ms/step - loss: 2852.1860 - acc: 0.9992 - val_loss: 2929.6790 - val_acc: 0.9828\n",
      "Epoch 3/50\n",
      "523/523 [==============================] - 54s 103ms/step - loss: 2852.9158 - acc: 0.9991 - val_loss: 2938.9998 - val_acc: 0.9953\n",
      "Epoch 4/50\n",
      "523/523 [==============================] - 53s 102ms/step - loss: 2853.3135 - acc: 0.9989 - val_loss: 2789.1310 - val_acc: 0.9984\n",
      "Epoch 5/50\n",
      "523/523 [==============================] - 54s 103ms/step - loss: 2851.6982 - acc: 0.9992 - val_loss: 2831.8105 - val_acc: 0.9969\n",
      "Epoch 6/50\n",
      "523/523 [==============================] - 53s 102ms/step - loss: 2854.8086 - acc: 0.9995 - val_loss: 2813.6594 - val_acc: 0.9984\n",
      "Epoch 7/50\n",
      "523/523 [==============================] - 54s 103ms/step - loss: 2852.1316 - acc: 0.9994 - val_loss: 2815.4400 - val_acc: 0.9969\n",
      "Epoch 8/50\n",
      "523/523 [==============================] - 53s 102ms/step - loss: 2852.6325 - acc: 0.9992 - val_loss: 2928.2073 - val_acc: 0.9984\n",
      "Epoch 9/50\n",
      "523/523 [==============================] - 54s 103ms/step - loss: 2853.6380 - acc: 0.9993 - val_loss: 2895.8297 - val_acc: 0.9953\n",
      "Epoch 10/50\n",
      "523/523 [==============================] - 54s 103ms/step - loss: 2849.9348 - acc: 0.9989 - val_loss: 2954.9433 - val_acc: 1.0000\n",
      "Epoch 11/50\n",
      "523/523 [==============================] - 54s 103ms/step - loss: 2856.7859 - acc: 0.9991 - val_loss: 2757.2440 - val_acc: 1.0000\n",
      "Epoch 12/50\n",
      "523/523 [==============================] - 54s 103ms/step - loss: 2853.7768 - acc: 0.9990 - val_loss: 2851.6785 - val_acc: 0.9984\n",
      "Epoch 13/50\n",
      "523/523 [==============================] - 53s 102ms/step - loss: 2855.3039 - acc: 0.9995 - val_loss: 2849.9616 - val_acc: 0.9969\n",
      "Epoch 14/50\n",
      "523/523 [==============================] - 53s 102ms/step - loss: 2847.6911 - acc: 0.9992 - val_loss: 2789.6851 - val_acc: 0.9953\n",
      "Epoch 15/50\n",
      "523/523 [==============================] - 53s 101ms/step - loss: 2854.4897 - acc: 0.9993 - val_loss: 2961.8113 - val_acc: 0.9984\n",
      "Epoch 16/50\n",
      "523/523 [==============================] - 54s 103ms/step - loss: 2853.4429 - acc: 0.9992 - val_loss: 2890.9240 - val_acc: 0.9984\n",
      "Epoch 17/50\n",
      "523/523 [==============================] - 53s 101ms/step - loss: 2852.3736 - acc: 0.9989 - val_loss: 2846.7729 - val_acc: 1.0000\n",
      "Epoch 18/50\n",
      "523/523 [==============================] - 50s 96ms/step - loss: 2851.9721 - acc: 0.9993 - val_loss: 2807.0367 - val_acc: 1.0000\n",
      "Epoch 19/50\n",
      "523/523 [==============================] - 49s 94ms/step - loss: 2849.9161 - acc: 0.9993 - val_loss: 2812.4330 - val_acc: 0.9953\n",
      "Epoch 20/50\n",
      "523/523 [==============================] - 49s 93ms/step - loss: 2852.3773 - acc: 0.9992 - val_loss: 2814.2136 - val_acc: 0.9984\n",
      "Epoch 21/50\n",
      "523/523 [==============================] - 47s 90ms/step - loss: 2857.0035 - acc: 0.9991 - val_loss: 2927.7168 - val_acc: 0.9984\n",
      "Epoch 22/50\n",
      "523/523 [==============================] - 50s 95ms/step - loss: 2849.8335 - acc: 0.9993 - val_loss: 2886.7542 - val_acc: 0.9984\n",
      "Epoch 23/50\n",
      "523/523 [==============================] - 49s 94ms/step - loss: 2854.4315 - acc: 0.9995 - val_loss: 2961.3207 - val_acc: 0.9984\n",
      "Epoch 24/50\n",
      "523/523 [==============================] - 50s 95ms/step - loss: 2853.3566 - acc: 0.9993 - val_loss: 2763.1308 - val_acc: 1.0000\n",
      "Epoch 25/50\n",
      "523/523 [==============================] - 49s 94ms/step - loss: 2853.9757 - acc: 0.9995 - val_loss: 2829.8482 - val_acc: 0.9984\n",
      "Epoch 26/50\n",
      "523/523 [==============================] - 48s 92ms/step - loss: 2853.5311 - acc: 0.9993 - val_loss: 2859.2824 - val_acc: 0.9953\n",
      "Epoch 27/50\n",
      "523/523 [==============================] - 50s 96ms/step - loss: 2852.7994 - acc: 0.9993 - val_loss: 2756.5717 - val_acc: 0.9953\n",
      "Epoch 28/50\n",
      "523/523 [==============================] - 49s 94ms/step - loss: 2852.6644 - acc: 0.9994 - val_loss: 2982.1699 - val_acc: 1.0000\n",
      "Epoch 29/50\n",
      "523/523 [==============================] - 51s 97ms/step - loss: 2853.3529 - acc: 0.9992 - val_loss: 2855.3578 - val_acc: 0.9969\n",
      "Epoch 30/50\n",
      "523/523 [==============================] - 50s 95ms/step - loss: 2857.8046 - acc: 0.9990 - val_loss: 2899.5090 - val_acc: 1.0000\n",
      "Epoch 31/50\n",
      "523/523 [==============================] - 55s 105ms/step - loss: 2846.9107 - acc: 0.9996 - val_loss: 2818.3198 - val_acc: 0.9984\n",
      "Epoch 32/50\n",
      "523/523 [==============================] - 52s 99ms/step - loss: 2856.1612 - acc: 0.9992 - val_loss: 2798.4518 - val_acc: 0.9953\n",
      "Epoch 33/50\n",
      "523/523 [==============================] - 51s 97ms/step - loss: 2855.7110 - acc: 0.9992 - val_loss: 2812.0060 - val_acc: 0.9969\n",
      "Epoch 34/50\n",
      "523/523 [==============================] - 51s 98ms/step - loss: 2846.8957 - acc: 0.9992 - val_loss: 2925.7545 - val_acc: 0.9984\n",
      "Epoch 35/50\n",
      "523/523 [==============================] - 51s 98ms/step - loss: 2852.2291 - acc: 0.9993 - val_loss: 2905.3958 - val_acc: 0.9984\n",
      "Epoch 36/50\n",
      "523/523 [==============================] - 50s 96ms/step - loss: 2858.9151 - acc: 0.9990 - val_loss: 2951.0188 - val_acc: 0.9984\n",
      "Epoch 37/50\n",
      "523/523 [==============================] - 50s 95ms/step - loss: 2848.8092 - acc: 0.9992 - val_loss: 2769.7535 - val_acc: 1.0000\n",
      "Epoch 38/50\n",
      "523/523 [==============================] - 49s 93ms/step - loss: 2856.7015 - acc: 0.9994 - val_loss: 2845.0558 - val_acc: 0.9984\n",
      "Epoch 39/50\n",
      "523/523 [==============================] - 53s 101ms/step - loss: 2853.7693 - acc: 0.9994 - val_loss: 2829.8482 - val_acc: 0.9953\n",
      "Epoch 40/50\n",
      "523/523 [==============================] - 50s 96ms/step - loss: 2846.3367 - acc: 0.9993 - val_loss: 2784.2889 - val_acc: 0.9969\n",
      "Epoch 41/50\n",
      "523/523 [==============================] - 49s 93ms/step - loss: 2854.6942 - acc: 0.9992 - val_loss: 3014.5475 - val_acc: 1.0000\n",
      "Epoch 42/50\n",
      "523/523 [==============================] - 50s 96ms/step - loss: 2858.6225 - acc: 0.9989 - val_loss: 2808.0179 - val_acc: 0.9969\n",
      "Epoch 43/50\n",
      "523/523 [==============================] - 52s 100ms/step - loss: 2844.5207 - acc: 0.9993 - val_loss: 2917.9054 - val_acc: 1.0000\n",
      "Epoch 44/50\n",
      "523/523 [==============================] - 51s 98ms/step - loss: 2852.5030 - acc: 0.9991 - val_loss: 2800.9046 - val_acc: 1.0000\n",
      "Epoch 45/50\n",
      "523/523 [==============================] - 51s 98ms/step - loss: 2855.3508 - acc: 0.9994 - val_loss: 2792.5649 - val_acc: 0.9953\n",
      "Epoch 46/50\n",
      "523/523 [==============================] - 49s 94ms/step - loss: 2857.4369 - acc: 0.9991 - val_loss: 2830.8930 - val_acc: 0.9984\n",
      "Epoch 47/50\n",
      "523/523 [==============================] - 50s 96ms/step - loss: 2851.5500 - acc: 0.9995 - val_loss: 2894.3581 - val_acc: 0.9984\n",
      "Epoch 48/50\n",
      "523/523 [==============================] - 49s 94ms/step - loss: 2852.4374 - acc: 0.9993 - val_loss: 2900.9807 - val_acc: 0.9984\n",
      "Epoch 49/50\n",
      "523/523 [==============================] - 50s 96ms/step - loss: 2858.2886 - acc: 0.9992 - val_loss: 2953.2263 - val_acc: 0.9984\n",
      "Epoch 50/50\n",
      "523/523 [==============================] - 49s 94ms/step - loss: 2846.8544 - acc: 0.9995 - val_loss: 2785.6970 - val_acc: 1.0000\n"
     ]
    }
   ],
   "source": [
    "history = model.fit(train_data.repeat(),\n",
    "                    epochs=num_epochs,\n",
    "                    steps_per_epoch = steps_per_epoch,\n",
    "                    validation_data=val_data.repeat(), \n",
    "                    validation_steps=val_steps,\n",
    "                    callbacks=[csv_logger])"
   ]
  },
  {
   "cell_type": "code",
   "execution_count": null,
   "metadata": {},
   "outputs": [],
   "source": [
    "# Save fine-tuned model weights\n",
    "model.save_weights('./models/weights_%s.h5' % MODEL_NAME)"
   ]
  },
  {
   "cell_type": "code",
   "execution_count": null,
   "metadata": {},
   "outputs": [
    {
     "data": {
      "image/png": "[encoded data removed]",
      "text/plain": [
       "<Figure size 576x576 with 2 Axes>"
      ]
     },
     "metadata": {
      "needs_background": "light"
     },
     "output_type": "display_data"
    }
   ],
   "source": [
    "draw_losses(history)"
   ]
  },
  {
   "cell_type": "code",
   "execution_count": null,
   "metadata": {},
   "outputs": [
    {
     "name": "stdout",
     "output_type": "stream",
     "text": [
      "WARNING:tensorflow:From /home/cenk/.virtualenvs/simpson/lib/python3.6/site-packages/tensorflow/python/ops/math_grad.py:102: div (from tensorflow.python.ops.math_ops) is deprecated and will be removed in a future version.\n",
      "Instructions for updating:\n",
      "Deprecated in favor of operator or tf.math.divide.\n",
      "Epoch 51/100\n",
      "523/523 [==============================] - 62s 119ms/step - loss: 2852.8332 - acc: 0.9993 - val_loss: 2804.0933 - val_acc: 0.9984\n",
      "Epoch 52/100\n",
      "523/523 [==============================] - 59s 114ms/step - loss: 2852.7094 - acc: 0.9995 - val_loss: 2929.6791 - val_acc: 0.9984\n",
      "Epoch 53/100\n",
      "523/523 [==============================] - 60s 114ms/step - loss: 2855.3376 - acc: 0.9993 - val_loss: 2938.9998 - val_acc: 0.9984\n",
      "Epoch 54/100\n",
      "523/523 [==============================] - 60s 115ms/step - loss: 2853.3754 - acc: 0.9993 - val_loss: 2789.1309 - val_acc: 1.0000\n",
      "Epoch 55/100\n",
      "  4/523 [..............................] - ETA: 32s - loss: 2776.6213 - acc: 1.0000"
     ]
    }
   ],
   "source": [
    "# Unfreeze all layers of MobileNetV2\n",
    "base_model.trainable = True\n",
    "\n",
    "# Refreeze layers until the layers we want to fine-tune\n",
    "for layer in base_model.layers[:100]:\n",
    "    layer.trainable =  False\n",
    "\n",
    "# Use a lower learning rate\n",
    "lr_finetune = learning_rate / 10\n",
    "\n",
    "# Recompile the model\n",
    "model.compile(loss='categorical_crossentropy',\n",
    "              optimizer = tf.keras.optimizers.Adam(lr=lr_finetune),\n",
    "              metrics=['acc'])\n",
    "\n",
    "# Increase training epochs for fine-tuning\n",
    "fine_tune_epochs = 50\n",
    "total_epochs =  num_epochs + fine_tune_epochs\n",
    "\n",
    "# Fine-tune model\n",
    "# Note: Set initial_epoch to begin training after epoch 30 since we\n",
    "# previously trained for 30 epochs.\n",
    "\n",
    "history_fine = model.fit(train_data.repeat(), \n",
    "                  steps_per_epoch = steps_per_epoch,\n",
    "                  epochs=total_epochs, \n",
    "                  initial_epoch = num_epochs,\n",
    "                  validation_data=val_data.repeat(), \n",
    "                  validation_steps=val_steps,\n",
    "                    callbacks=[csv_logger])"
   ]
  },
  {
   "cell_type": "code",
   "execution_count": null,
   "metadata": {},
   "outputs": [],
   "source": [
    "# Save fine-tuned model weights\n",
    "model.save_weights('./models/weights_finetuned_%s.h5' % MODEL_NAME)"
   ]
  },
  {
   "cell_type": "code",
   "execution_count": null,
   "metadata": {},
   "outputs": [],
   "source": [
    "draw_losses(history_fine)"
   ]
  }
 ],
 "metadata": {
  "kernelspec": {
   "display_name": "Python 3",
   "language": "python",
   "name": "python3"
  },
  "language_info": {
   "codemirror_mode": {
    "name": "ipython",
    "version": 3
   },
   "file_extension": ".py",
   "mimetype": "text/x-python",
   "name": "python",
   "nbconvert_exporter": "python",
   "pygments_lexer": "ipython3",
   "version": "3.6.7"
  }
 },
 "nbformat": 4,
 "nbformat_minor": 2
}
