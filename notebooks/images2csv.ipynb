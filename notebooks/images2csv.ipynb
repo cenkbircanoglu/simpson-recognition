{
 "cells": [
  {
   "cell_type": "code",
   "execution_count": 1,
   "metadata": {},
   "outputs": [],
   "source": [
    "# Import libraries\n",
    "from glob import glob\n",
    "\n",
    "import pandas as pd\n",
    "from sklearn.preprocessing import LabelEncoder"
   ]
  },
  {
   "cell_type": "code",
   "execution_count": 2,
   "metadata": {},
   "outputs": [],
   "source": [
    "# Get absolute paths of images in folders\n",
    "pwd = %pwd\n",
    "image_list = glob('%s/../characters/*/*.jpg' % pwd)"
   ]
  },
  {
   "cell_type": "code",
   "execution_count": 3,
   "metadata": {},
   "outputs": [],
   "source": [
    "# Create dataframe from list of paths\n",
    "df = pd.DataFrame({'path': image_list})"
   ]
  },
  {
   "cell_type": "code",
   "execution_count": 4,
   "metadata": {},
   "outputs": [],
   "source": [
    "# Extract labels from paths\n",
    "df['label_str'] = df['path'].apply(lambda x:x.split('/')[-2])"
   ]
  },
  {
   "cell_type": "code",
   "execution_count": 5,
   "metadata": {},
   "outputs": [],
   "source": [
    "df['label'] = LabelEncoder().fit_transform(df['label_str'].to_list())"
   ]
  },
  {
   "cell_type": "code",
   "execution_count": 6,
   "metadata": {},
   "outputs": [
    {
     "data": {
      "text/plain": [
       "(20933, 3)"
      ]
     },
     "execution_count": 6,
     "metadata": {},
     "output_type": "execute_result"
    }
   ],
   "source": [
    "df.shape"
   ]
  },
  {
   "cell_type": "code",
   "execution_count": 7,
   "metadata": {},
   "outputs": [],
   "source": [
    "df.drop_duplicates(inplace=True)"
   ]
  },
  {
   "cell_type": "code",
   "execution_count": 8,
   "metadata": {},
   "outputs": [
    {
     "data": {
      "text/plain": [
       "(20933, 3)"
      ]
     },
     "execution_count": 8,
     "metadata": {},
     "output_type": "execute_result"
    }
   ],
   "source": [
    "df.shape"
   ]
  },
  {
   "cell_type": "code",
   "execution_count": 9,
   "metadata": {},
   "outputs": [
    {
     "data": {
      "text/html": [
       "<div>\n",
       "<style scoped>\n",
       "    .dataframe tbody tr th:only-of-type {\n",
       "        vertical-align: middle;\n",
       "    }\n",
       "\n",
       "    .dataframe tbody tr th {\n",
       "        vertical-align: top;\n",
       "    }\n",
       "\n",
       "    .dataframe thead th {\n",
       "        text-align: right;\n",
       "    }\n",
       "</style>\n",
       "<table border=\"1\" class=\"dataframe\">\n",
       "  <thead>\n",
       "    <tr style=\"text-align: right;\">\n",
       "      <th></th>\n",
       "      <th>path</th>\n",
       "      <th>label_str</th>\n",
       "      <th>label</th>\n",
       "    </tr>\n",
       "  </thead>\n",
       "  <tbody>\n",
       "    <tr>\n",
       "      <th>0</th>\n",
       "      <td>/home/cenk/ws/SimpsonRecognition/notebooks/../...</td>\n",
       "      <td>snake_jailbird</td>\n",
       "      <td>39</td>\n",
       "    </tr>\n",
       "    <tr>\n",
       "      <th>1</th>\n",
       "      <td>/home/cenk/ws/SimpsonRecognition/notebooks/../...</td>\n",
       "      <td>snake_jailbird</td>\n",
       "      <td>39</td>\n",
       "    </tr>\n",
       "    <tr>\n",
       "      <th>2</th>\n",
       "      <td>/home/cenk/ws/SimpsonRecognition/notebooks/../...</td>\n",
       "      <td>snake_jailbird</td>\n",
       "      <td>39</td>\n",
       "    </tr>\n",
       "    <tr>\n",
       "      <th>3</th>\n",
       "      <td>/home/cenk/ws/SimpsonRecognition/notebooks/../...</td>\n",
       "      <td>snake_jailbird</td>\n",
       "      <td>39</td>\n",
       "    </tr>\n",
       "    <tr>\n",
       "      <th>4</th>\n",
       "      <td>/home/cenk/ws/SimpsonRecognition/notebooks/../...</td>\n",
       "      <td>snake_jailbird</td>\n",
       "      <td>39</td>\n",
       "    </tr>\n",
       "  </tbody>\n",
       "</table>\n",
       "</div>"
      ],
      "text/plain": [
       "                                                path       label_str  label\n",
       "0  /home/cenk/ws/SimpsonRecognition/notebooks/../...  snake_jailbird     39\n",
       "1  /home/cenk/ws/SimpsonRecognition/notebooks/../...  snake_jailbird     39\n",
       "2  /home/cenk/ws/SimpsonRecognition/notebooks/../...  snake_jailbird     39\n",
       "3  /home/cenk/ws/SimpsonRecognition/notebooks/../...  snake_jailbird     39\n",
       "4  /home/cenk/ws/SimpsonRecognition/notebooks/../...  snake_jailbird     39"
      ]
     },
     "execution_count": 9,
     "metadata": {},
     "output_type": "execute_result"
    }
   ],
   "source": [
    "# List first 5 rows\n",
    "df.head()"
   ]
  },
  {
   "cell_type": "code",
   "execution_count": 10,
   "metadata": {},
   "outputs": [
    {
     "data": {
      "text/plain": [
       "count             20933\n",
       "unique               42\n",
       "top       homer_simpson\n",
       "freq               2246\n",
       "Name: label_str, dtype: object"
      ]
     },
     "execution_count": 10,
     "metadata": {},
     "output_type": "execute_result"
    }
   ],
   "source": [
    "# Show some statistical info about labels\n",
    "df['label_str'].describe()"
   ]
  },
  {
   "cell_type": "code",
   "execution_count": 11,
   "metadata": {},
   "outputs": [
    {
     "data": {
      "text/plain": [
       "homer_simpson               2246\n",
       "ned_flanders                1454\n",
       "moe_szyslak                 1452\n",
       "lisa_simpson                1354\n",
       "bart_simpson                1342\n",
       "marge_simpson               1291\n",
       "krusty_the_clown            1206\n",
       "principal_skinner           1194\n",
       "charles_montgomery_burns    1193\n",
       "milhouse_van_houten         1079\n",
       "chief_wiggum                 986\n",
       "abraham_grampa_simpson       913\n",
       "sideshow_bob                 877\n",
       "apu_nahasapeemapetilon       623\n",
       "kent_brockman                498\n",
       "comic_book_guy               469\n",
       "edna_krabappel               457\n",
       "nelson_muntz                 358\n",
       "lenny_leonard                310\n",
       "mayor_quimby                 246\n",
       "waylon_smithers              181\n",
       "maggie_simpson               128\n",
       "groundskeeper_willie         121\n",
       "barney_gumble                106\n",
       "selma_bouvier                103\n",
       "carl_carlson                  98\n",
       "ralph_wiggum                  89\n",
       "patty_bouvier                 72\n",
       "martin_prince                 71\n",
       "professor_john_frink          65\n",
       "snake_jailbird                55\n",
       "cletus_spuckler               47\n",
       "rainier_wolfcastle            45\n",
       "agnes_skinner                 42\n",
       "sideshow_mel                  40\n",
       "otto_mann                     32\n",
       "gil                           27\n",
       "fat_tony                      27\n",
       "miss_hoover                   17\n",
       "troy_mcclure                   8\n",
       "disco_stu                      8\n",
       "lionel_hutz                    3\n",
       "Name: label_str, dtype: int64"
      ]
     },
     "execution_count": 11,
     "metadata": {},
     "output_type": "execute_result"
    }
   ],
   "source": [
    "# Show distributions of labels\n",
    "df['label_str'].value_counts()"
   ]
  },
  {
   "cell_type": "code",
   "execution_count": 12,
   "metadata": {},
   "outputs": [
    {
     "name": "stdout",
     "output_type": "stream",
     "text": [
      "mkdir: cannot create directory ‘/home/cenk/ws/SimpsonRecognition/notebooks/../data’: File exists\r\n"
     ]
    }
   ],
   "source": [
    "# Make new folder\n",
    "!mkdir {pwd}/../data"
   ]
  },
  {
   "cell_type": "code",
   "execution_count": 13,
   "metadata": {},
   "outputs": [],
   "source": [
    "# Save dataframe to folder\n",
    "df.sample(frac=1).to_csv('%s/../data/all.csv' % pwd)"
   ]
  },
  {
   "cell_type": "code",
   "execution_count": null,
   "metadata": {},
   "outputs": [],
   "source": []
  }
 ],
 "metadata": {
  "kernelspec": {
   "display_name": "Python 3",
   "language": "python",
   "name": "python3"
  },
  "language_info": {
   "codemirror_mode": {
    "name": "ipython",
    "version": 3
   },
   "file_extension": ".py",
   "mimetype": "text/x-python",
   "name": "python",
   "nbconvert_exporter": "python",
   "pygments_lexer": "ipython3",
   "version": "3.6.7"
  }
 },
 "nbformat": 4,
 "nbformat_minor": 2
}
